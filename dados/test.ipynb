{
 "cells": [
  {
   "cell_type": "code",
   "execution_count": null,
   "id": "af93a7aa",
   "metadata": {},
   "outputs": [],
   "source": [
    "import csv\n",
    "import re"
   ]
  },
  {
   "cell_type": "code",
   "execution_count": 26,
   "id": "4e567e49",
   "metadata": {},
   "outputs": [
    {
     "name": "stdout",
     "output_type": "stream",
     "text": [
      "⚠️ Skipped line 14268: 468\n",
      "⚠️ Skipped line 810802: 1\n",
      "✅ Done! Parsed 810860 lines. Skipped 2 malformed lines.\n"
     ]
    }
   ],
   "source": [
    "input_file = './palavras.txt'\n",
    "output_file = 'output.csv'\n",
    "\n",
    "# Regex: one or more digits, followed by whitespace, then any non-empty token\n",
    "pattern = re.compile(r'^(\\d+)\\s+(.*)$')\n",
    "\n",
    "with open(input_file, 'r', encoding='latin-1') as infile, \\\n",
    "     open(output_file, 'w', encoding='utf-8', newline='') as outfile:\n",
    "\n",
    "    writer = csv.writer(outfile)\n",
    "    writer.writerow(['count', 'token'])  # Optional: write header\n",
    "\n",
    "    total = 0\n",
    "    skipped = 0\n",
    "\n",
    "    for line_num, line in enumerate(infile, start=1):\n",
    "        stripped = line.strip()\n",
    "        if not stripped:\n",
    "            continue\n",
    "\n",
    "        match = pattern.match(stripped)\n",
    "        if not match:\n",
    "            print(f\"⚠️ Skipped line {line_num}: {stripped}\")\n",
    "            skipped += 1\n",
    "            continue\n",
    "\n",
    "        count, token = match.groups()\n",
    "        writer.writerow([count, token])\n",
    "        total += 1\n",
    "\n",
    "print(f\"✅ Done! Parsed {total} lines. Skipped {skipped} malformed lines.\")"
   ]
  }
 ],
 "metadata": {
  "kernelspec": {
   "display_name": "Python 3",
   "language": "python",
   "name": "python3"
  },
  "language_info": {
   "codemirror_mode": {
    "name": "ipython",
    "version": 3
   },
   "file_extension": ".py",
   "mimetype": "text/x-python",
   "name": "python",
   "nbconvert_exporter": "python",
   "pygments_lexer": "ipython3",
   "version": "3.13.2"
  }
 },
 "nbformat": 4,
 "nbformat_minor": 5
}
